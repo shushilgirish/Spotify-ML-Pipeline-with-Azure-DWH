{
  "cells": [
    {
      "cell_type": "code",
      "source": [
        "storage_key = dbutils.secrets.get(scope=\"your-secret-scope-name\", key=\"shushilacckey\")\n"
      ],
      "metadata": {
        "id": "rbkWUGHzLCtm"
      },
      "execution_count": null,
      "outputs": []
    },
    {
      "cell_type": "code",
      "source": [
        "# Set up storage configuration\n",
        "storage_name = \"shushilgstorage\"\n",
        "spark.conf.set(\"fs.azure.account.key.shushilgstorage.blob.core.windows.net\", storage_key)\n",
        "spark.conf.set(f\"fs.azure.account.key.{storage_name}.blob.core.windows.net\", storage_key)\n"
      ],
      "metadata": {
        "id": "OLHn9-A5LCXi"
      },
      "execution_count": null,
      "outputs": []
    },
    {
      "cell_type": "code",
      "source": [
        "storage_path=\"wasbs://deltadataset@shushilgstorage.blob.core.windows.net/spotify_cleaned\""
      ],
      "metadata": {
        "id": "aRusjjZILiFU"
      },
      "execution_count": null,
      "outputs": []
    },
    {
      "cell_type": "code",
      "source": [
        "\n",
        "# Load Delta file\n",
        "spotify_df = spark.read.format(\"delta\").load(storage_path)\n",
        "\n",
        "# Display sample rows\n",
        "spotify_df.show(5)\n"
      ],
      "outputs": [
        {
          "output_type": "display_data",
          "data": {
            "application/vnd.livy.statement-meta+json": {
              "spark_pool": "shushil1",
              "statement_id": 7,
              "statement_ids": [
                7
              ],
              "state": "finished",
              "livy_statement_state": "available",
              "spark_jobs": null,
              "session_id": "0",
              "normalized_state": "finished",
              "queued_time": "2024-11-18T04:09:38.7720616Z",
              "session_start_time": null,
              "execution_start_time": "2024-11-18T04:09:38.9062121Z",
              "execution_finish_time": "2024-11-18T04:10:19.2208064Z",
              "parent_msg_id": "c8ec57c7-c05f-4b3e-aeee-3acabc1d2edf"
            },
            "text/plain": "StatementMeta(shushil1, 0, 7, Finished, Available, Finished)"
          },
          "metadata": {}
        },
        {
          "output_type": "stream",
          "name": "stdout",
          "text": [
            "+--------------------+----+----------+------+--------------------+---------+------+-------------+-------+----+-------+------+------------+------------+\n|               title|rank|      date|artist|                 url|   region| chart|        trend|streams|year|  month|   day|artist_fname|artist_lname|\n+--------------------+----+----------+------+--------------------+---------+------+-------------+-------+----+-------+------+------------+------------+\n|       baila conmigo|  77|2017-01-01|  null|https://open.spot...|argentina|top200|      move_up|  30623|2017|january|sunday|        juan|        magn|\n|can't stop the fe...|  12|2017-01-01|  null|https://open.spot...|  belgium|top200|    move_down|  11819|2017|january|sunday|      justin|  timberlake|\n|            tchikita| 150|2017-01-01|  null|https://open.spot...|  belgium|top200|      move_up|   2570|2017|january|sunday|         jul|            |\n|   take me to church| 174|2017-01-01|  null|https://open.spot...|  belgium|top200|      move_up|   2339|2017|january|sunday|      hozier|            |\n|chantaje feat. ma...|   3|2017-01-01|  null|https://open.spot...|  bolivia|top200|same_position|   5506|2017|january|sunday|     shakira|            |\n+--------------------+----+----------+------+--------------------+---------+------+-------------+-------+----+-------+------+------------+------------+\nonly showing top 5 rows\n\n"
          ]
        }
      ],
      "execution_count": null,
      "metadata": {
        "id": "JIwu7ZyfG1Gx",
        "outputId": "becb3653-d9d6-4b63-b67a-5873b1c489ca"
      }
    },
    {
      "cell_type": "markdown",
      "source": [
        "Trend Analysis\n",
        "Monthly and Yearly Stream Trends:"
      ],
      "metadata": {
        "nteract": {
          "transient": {
            "deleting": false
          }
        },
        "id": "AOK51EaUG1Gx"
      }
    },
    {
      "cell_type": "code",
      "source": [
        "from pyspark.sql.functions import sum\n",
        "spotify_df.groupBy(\"year\", \"month\").agg(sum(\"streams\").alias(\"TotalStreams\")) \\\n",
        ".orderBy(\"year\", \"month\").show()\n"
      ],
      "outputs": [
        {
          "output_type": "display_data",
          "data": {
            "application/vnd.livy.statement-meta+json": {
              "spark_pool": "shushil1",
              "statement_id": 15,
              "statement_ids": [
                15
              ],
              "state": "finished",
              "livy_statement_state": "available",
              "spark_jobs": null,
              "session_id": "0",
              "normalized_state": "finished",
              "queued_time": "2024-11-18T04:14:53.8503183Z",
              "session_start_time": null,
              "execution_start_time": "2024-11-18T04:14:53.9803463Z",
              "execution_finish_time": "2024-11-18T04:14:56.7607631Z",
              "parent_msg_id": "fb0a7a54-11d4-480d-936c-af9fe152f7be"
            },
            "text/plain": "StatementMeta(shushil1, 0, 15, Finished, Available, Finished)"
          },
          "metadata": {}
        },
        {
          "output_type": "stream",
          "name": "stdout",
          "text": [
            "+----+---------+------------+\n|year|    month|TotalStreams|\n+----+---------+------------+\n|2017|    april| 14596390230|\n|2017|   august| 14620464664|\n|2017| december| 16341683149|\n|2017| february| 12279457316|\n|2017|  january| 12656756211|\n|2017|     july| 14826129401|\n|2017|     june| 14237992410|\n|2017|    march| 15777232509|\n|2017|      may| 14518560059|\n|2017| november| 14677099056|\n|2017|  october| 15073216971|\n|2017|september| 14833417018|\n|2018|    april| 16977238683|\n|2018|   august| 17424927784|\n|2018| december| 19556861882|\n|2018| february| 14763150551|\n|2018|  january| 15703181972|\n|2018|     july| 17922445394|\n|2018|     june| 17135879193|\n|2018|    march| 16523675245|\n+----+---------+------------+\nonly showing top 20 rows\n\n"
          ]
        }
      ],
      "execution_count": null,
      "metadata": {
        "jupyter": {
          "source_hidden": false,
          "outputs_hidden": false
        },
        "nteract": {
          "transient": {
            "deleting": false
          }
        },
        "id": "UJdNxJnlG1Gy",
        "outputId": "bca31b82-189c-455d-82df-3aeaa5a63fdc"
      }
    },
    {
      "cell_type": "markdown",
      "source": [
        "Day of the Week Analysis:"
      ],
      "metadata": {
        "nteract": {
          "transient": {
            "deleting": false
          }
        },
        "id": "SuT53yR9G1Gy"
      }
    },
    {
      "cell_type": "code",
      "source": [
        "spotify_df.groupBy(\"day\").avg(\"streams\").orderBy(\"day\").show()\n"
      ],
      "outputs": [
        {
          "output_type": "display_data",
          "data": {
            "application/vnd.livy.statement-meta+json": {
              "spark_pool": "shushil1",
              "statement_id": 16,
              "statement_ids": [
                16
              ],
              "state": "finished",
              "livy_statement_state": "available",
              "spark_jobs": null,
              "session_id": "0",
              "normalized_state": "finished",
              "queued_time": "2024-11-18T04:15:19.9187984Z",
              "session_start_time": null,
              "execution_start_time": "2024-11-18T04:15:20.0116446Z",
              "execution_finish_time": "2024-11-18T04:15:22.7727159Z",
              "parent_msg_id": "89d3682a-5fa1-4b73-a8ad-40d147e9f468"
            },
            "text/plain": "StatementMeta(shushil1, 0, 16, Finished, Available, Finished)"
          },
          "metadata": {}
        },
        {
          "output_type": "stream",
          "name": "stdout",
          "text": [
            "+---------+------------------+\n|      day|      avg(streams)|\n+---------+------------------+\n|   friday| 59757.51762737565|\n|   monday| 53700.51945033045|\n| saturday|57793.601360058594|\n|   sunday|  51942.5521399938|\n| thursday|54794.709193097435|\n|  tuesday| 54315.94044390773|\n|wednesday| 54488.35403167535|\n+---------+------------------+\n\n"
          ]
        }
      ],
      "execution_count": null,
      "metadata": {
        "jupyter": {
          "source_hidden": false,
          "outputs_hidden": false
        },
        "nteract": {
          "transient": {
            "deleting": false
          }
        },
        "id": "H2H7SKvEG1Gy",
        "outputId": "aec69f23-7641-485a-ac08-4ee304a38692"
      }
    },
    {
      "cell_type": "markdown",
      "source": [
        "Regional Insights\n",
        "Top Songs by Region:"
      ],
      "metadata": {
        "nteract": {
          "transient": {
            "deleting": false
          }
        },
        "id": "CjQax4EOG1Gy"
      }
    },
    {
      "cell_type": "code",
      "source": [
        "from pyspark.sql.functions import concat, col, lit\n",
        "\n",
        "# Create full_name column\n",
        "full_namedf = spotify_df.withColumn(\"artist_name\", concat(col(\"artist_fname\"), lit(\" \"), col(\"artist_lname\")))\n",
        "\n",
        "# Group by region and artist_name, sum streams, and order results\n",
        "result = full_namedf.groupBy(\"region\", \"artist_name\") \\\n",
        "    .agg({\"streams\": \"sum\"}) \\\n",
        "    .withColumnRenamed(\"sum(streams)\",\"TotalStreams\") \\\n",
        "    .orderBy(\"region\", col(\"TotalStreams\").desc())\n",
        "\n",
        "# Show top 10 results\n",
        "result.show(10, truncate=False)"
      ],
      "outputs": [
        {
          "output_type": "display_data",
          "data": {
            "application/vnd.livy.statement-meta+json": {
              "spark_pool": "shushil1",
              "statement_id": 25,
              "statement_ids": [
                25
              ],
              "state": "finished",
              "livy_statement_state": "available",
              "spark_jobs": null,
              "session_id": "0",
              "normalized_state": "finished",
              "queued_time": "2024-11-18T04:21:36.7911324Z",
              "session_start_time": null,
              "execution_start_time": "2024-11-18T04:21:36.9119938Z",
              "execution_finish_time": "2024-11-18T04:21:42.1669031Z",
              "parent_msg_id": "19472b35-f271-42c5-b51b-5f7d063f462c"
            },
            "text/plain": "StatementMeta(shushil1, 0, 25, Finished, Available, Finished)"
          },
          "metadata": {}
        },
        {
          "output_type": "stream",
          "name": "stdout",
          "text": [
            "+---------+---------------+------------+\n|region   |artist_name    |TotalStreams|\n+---------+---------------+------------+\n|argentina|bad bunny      |631804836   |\n|argentina|j balvin       |563868233   |\n|argentina|rauw alejandro |469222553   |\n|argentina|paulo londra   |395869079   |\n|argentina|sebastian yatra|388647600   |\n|argentina|maluma         |360531136   |\n|argentina|karol g        |335783711   |\n|argentina|maria becerra  |301915485   |\n|argentina|anuel aa       |299688235   |\n|argentina|daddy yankee   |298160513   |\n+---------+---------------+------------+\nonly showing top 10 rows\n\n"
          ]
        }
      ],
      "execution_count": null,
      "metadata": {
        "jupyter": {
          "source_hidden": false,
          "outputs_hidden": false
        },
        "nteract": {
          "transient": {
            "deleting": false
          }
        },
        "id": "IwkmKUoRG1Gy",
        "outputId": "10f7ff6b-6c46-4088-a194-3ed356c69ea6"
      }
    },
    {
      "cell_type": "markdown",
      "source": [
        "Song Longevity:"
      ],
      "metadata": {
        "nteract": {
          "transient": {
            "deleting": false
          }
        },
        "id": "pIPX5aTMG1Gy"
      }
    },
    {
      "cell_type": "code",
      "source": [
        "from pyspark.sql.functions import *\n",
        "\n",
        "result = spotify_df.groupBy(\"title\").agg(\n",
        "    min(\"date\").alias(\"entry_date\"),\n",
        "    max(\"date\").alias(\"last_date\"),\n",
        "    count(\"date\").alias(\"days_on_chart\")\n",
        ").orderBy(\"days_on_chart\", ascending=False)\n",
        "\n",
        "result.show(10, truncate=False)"
      ],
      "outputs": [
        {
          "output_type": "display_data",
          "data": {
            "application/vnd.livy.statement-meta+json": {
              "spark_pool": "shushil1",
              "statement_id": 28,
              "statement_ids": [
                28
              ],
              "state": "finished",
              "livy_statement_state": "available",
              "spark_jobs": null,
              "session_id": "0",
              "normalized_state": "finished",
              "queued_time": "2024-11-18T04:23:55.786388Z",
              "session_start_time": null,
              "execution_start_time": "2024-11-18T04:23:55.8897359Z",
              "execution_finish_time": "2024-11-18T04:23:59.7971981Z",
              "parent_msg_id": "b4891e8d-00f7-443a-8a52-be85d7de7b85"
            },
            "text/plain": "StatementMeta(shushil1, 0, 28, Finished, Available, Finished)"
          },
          "metadata": {}
        },
        {
          "output_type": "stream",
          "name": "stdout",
          "text": [
            "+------------------------------------------+----------+----------+-------------+\n|title                                     |entry_date|last_date |days_on_chart|\n+------------------------------------------+----------+----------+-------------+\n|shape of you                              |2017-01-06|2021-12-31|65276        |\n|believer                                  |2017-01-01|2021-12-31|58314        |\n|happier                                   |2017-03-02|2021-12-31|54584        |\n|perfect                                   |2017-02-14|2021-12-31|52736        |\n|someone you loved                         |2018-11-09|2021-12-31|50975        |\n|blinding lights                           |2019-11-29|2021-12-31|47747        |\n|dance monkey                              |2019-05-13|2021-12-31|43369        |\n|shallow                                   |2018-09-27|2021-12-30|41312        |\n|don't start now                           |2019-11-01|2021-12-31|40240        |\n|sunflower  spiderman: into the spiderverse|2018-10-18|2021-12-31|39645        |\n+------------------------------------------+----------+----------+-------------+\nonly showing top 10 rows\n\n"
          ]
        }
      ],
      "execution_count": null,
      "metadata": {
        "jupyter": {
          "source_hidden": false,
          "outputs_hidden": false
        },
        "nteract": {
          "transient": {
            "deleting": false
          }
        },
        "id": "cbGdNpfOG1Gz",
        "outputId": "8cc65b02-3443-4415-df84-e20a4ea5903f"
      }
    },
    {
      "cell_type": "code",
      "source": [
        "spotify_df.select('trend').distinct().show()"
      ],
      "outputs": [
        {
          "output_type": "display_data",
          "data": {
            "application/vnd.livy.statement-meta+json": {
              "spark_pool": "shushil1",
              "statement_id": 31,
              "statement_ids": [
                31
              ],
              "state": "finished",
              "livy_statement_state": "available",
              "spark_jobs": null,
              "session_id": "0",
              "normalized_state": "finished",
              "queued_time": "2024-11-18T04:26:03.1018738Z",
              "session_start_time": null,
              "execution_start_time": "2024-11-18T04:26:03.203194Z",
              "execution_finish_time": "2024-11-18T04:26:05.9238166Z",
              "parent_msg_id": "1b7e1fc9-d380-4194-9047-d1f0ded1c019"
            },
            "text/plain": "StatementMeta(shushil1, 0, 31, Finished, Available, Finished)"
          },
          "metadata": {}
        },
        {
          "output_type": "stream",
          "name": "stdout",
          "text": [
            "+-------------+\n|        trend|\n+-------------+\n|    move_down|\n|    new_entry|\n|      move_up|\n|same_position|\n+-------------+\n\n"
          ]
        }
      ],
      "execution_count": null,
      "metadata": {
        "jupyter": {
          "source_hidden": false,
          "outputs_hidden": false
        },
        "nteract": {
          "transient": {
            "deleting": false
          }
        },
        "id": "nWgU2IlRG1Gz",
        "outputId": "2d64f292-2f2c-4185-ad93-e4ac6bb63dd6"
      }
    },
    {
      "cell_type": "markdown",
      "source": [
        "Trend-Based Analysis\n",
        "A. Distribution of Trends\n",
        "Analyze the distribution of songs by their trend categories to understand how often songs move up, down, or retain their positions."
      ],
      "metadata": {
        "nteract": {
          "transient": {
            "deleting": false
          }
        },
        "id": "ukuthKwFG1Gz"
      }
    },
    {
      "cell_type": "code",
      "source": [
        "import matplotlib.pyplot as plt\n",
        "spotify_df.groupBy(\"trend\").count().orderBy(\"count\", ascending=True).show()\n",
        "\n",
        "# Visualization (if using Python and Matplotlib/Seaborn)\n",
        "trend_distribution = spotify_df.groupBy(\"trend\").count().toPandas()\n",
        "trend_distribution.plot(kind=\"barh\", x=\"trend\", y=\"count\", title=\"Distribution of Trends\")\n",
        "\n",
        "plt.xticks(rotation=90)"
      ],
      "outputs": [
        {
          "output_type": "display_data",
          "data": {
            "application/vnd.livy.statement-meta+json": {
              "spark_pool": "shushil1",
              "statement_id": 40,
              "statement_ids": [
                40
              ],
              "state": "finished",
              "livy_statement_state": "available",
              "spark_jobs": null,
              "session_id": "0",
              "normalized_state": "finished",
              "queued_time": "2024-11-18T04:41:43.8878727Z",
              "session_start_time": null,
              "execution_start_time": "2024-11-18T04:41:44.0142486Z",
              "execution_finish_time": "2024-11-18T04:41:46.6563387Z",
              "parent_msg_id": "567d4c37-1948-4493-9f2a-fa3e996f566b"
            },
            "text/plain": "StatementMeta(shushil1, 0, 40, Finished, Available, Finished)"
          },
          "metadata": {}
        },
        {
          "output_type": "stream",
          "name": "stdout",
          "text": [
            "+-------------+-------+\n|        trend|  count|\n+-------------+-------+\n|    new_entry|1180679|\n|same_position|2331159|\n|      move_up|7831595|\n|    move_down|8972990|\n+-------------+-------+\n\n"
          ]
        },
        {
          "output_type": "execute_result",
          "execution_count": 81,
          "data": {
            "text/plain": "(array([       0.,  2000000.,  4000000.,  6000000.,  8000000., 10000000.]),\n [Text(0.0, 0, '0'),\n  Text(2000000.0, 0, '2'),\n  Text(4000000.0, 0, '4'),\n  Text(6000000.0, 0, '6'),\n  Text(8000000.0, 0, '8'),\n  Text(10000000.0, 0, '10')])"
          },
          "metadata": {}
        },
        {
          "output_type": "display_data",
          "data": {
            "text/plain": "<Figure size 640x480 with 1 Axes>",
            "image/png": "[encoded data removed]"
          },
          "metadata": {}
        }
      ],
      "execution_count": null,
      "metadata": {
        "jupyter": {
          "source_hidden": false,
          "outputs_hidden": false
        },
        "nteract": {
          "transient": {
            "deleting": false
          }
        },
        "id": "W-d6Y7lRG1Gz",
        "outputId": "1dc115b8-7146-4696-b4da-05351822c2bb"
      }
    },
    {
      "cell_type": "markdown",
      "source": [
        "Impact of Trends on Streams\n",
        "Calculate the average streams for each trend to see how position changes influence song popularity."
      ],
      "metadata": {
        "nteract": {
          "transient": {
            "deleting": false
          }
        },
        "id": "Z-i50NW3G1Gz"
      }
    },
    {
      "cell_type": "code",
      "source": [
        "spotify_df.groupBy(\"trend\").avg(\"streams\").orderBy(\"avg(streams)\", ascending=False).show()\n",
        "\n",
        "# Visualization (Bar Chart)\n",
        "trend_streams = spotify_df.groupBy(\"trend\").avg(\"streams\").toPandas()\n",
        "trend_streams.plot(kind=\"bar\", x=\"trend\", y=\"avg(streams)\", title=\"Average Streams by Trend\")\n",
        "plt.xticks(rotation=0)"
      ],
      "outputs": [
        {
          "output_type": "display_data",
          "data": {
            "application/vnd.livy.statement-meta+json": {
              "spark_pool": "shushil1",
              "statement_id": 42,
              "statement_ids": [
                42
              ],
              "state": "finished",
              "livy_statement_state": "available",
              "spark_jobs": null,
              "session_id": "0",
              "normalized_state": "finished",
              "queued_time": "2024-11-18T04:42:12.9774741Z",
              "session_start_time": null,
              "execution_start_time": "2024-11-18T04:42:13.0889435Z",
              "execution_finish_time": "2024-11-18T04:42:17.2348428Z",
              "parent_msg_id": "fcd4dffd-0b9b-4377-9250-5a448ce38d55"
            },
            "text/plain": "StatementMeta(shushil1, 0, 42, Finished, Available, Finished)"
          },
          "metadata": {}
        },
        {
          "output_type": "stream",
          "name": "stdout",
          "text": [
            "+-------------+------------------+\n|        trend|      avg(streams)|\n+-------------+------------------+\n|same_position|105190.12676441204|\n|      move_up| 50967.83200676235|\n|    move_down| 48754.42217231937|\n|    new_entry| 34743.80964428096|\n+-------------+------------------+\n\n"
          ]
        },
        {
          "output_type": "execute_result",
          "execution_count": 85,
          "data": {
            "text/plain": "(array([0, 1, 2, 3]),\n [Text(0, 0, 'move_down'),\n  Text(1, 0, 'new_entry'),\n  Text(2, 0, 'move_up'),\n  Text(3, 0, 'same_position')])"
          },
          "metadata": {}
        },
        {
          "output_type": "display_data",
          "data": {
            "text/plain": "<Figure size 640x480 with 1 Axes>",
            "image/png": "[encoded data removed]"
          },
          "metadata": {}
        }
      ],
      "execution_count": null,
      "metadata": {
        "jupyter": {
          "source_hidden": false,
          "outputs_hidden": false
        },
        "nteract": {
          "transient": {
            "deleting": false
          }
        },
        "id": "yzAn72WNG1Gz",
        "outputId": "d40cd2d2-8b83-43d6-a718-98b6352b9f7a"
      }
    },
    {
      "cell_type": "markdown",
      "source": [
        "2. Trend and Rank Movement Analysis\n",
        "A. Average Rank by Trend\n",
        "Calculate the average rank for each trend category to see how trends correlate with position changes."
      ],
      "metadata": {
        "nteract": {
          "transient": {
            "deleting": false
          }
        },
        "id": "tnT9_INQG1Gz"
      }
    },
    {
      "cell_type": "code",
      "source": [
        "spotify_df.groupBy(\"trend\").avg(\"rank\").orderBy(\"avg(rank)\").show()\n",
        "\n",
        "# Visualization (Bar Chart)\n",
        "trend_rank = spotify_df.groupBy(\"trend\").avg(\"rank\").toPandas()\n",
        "trend_rank.plot(kind=\"bar\", x=\"trend\", y=\"avg(rank)\", title=\"Average Rank by Trend\")\n",
        "plt.xticks(rotation=0)\n"
      ],
      "outputs": [
        {
          "output_type": "display_data",
          "data": {
            "application/vnd.livy.statement-meta+json": {
              "spark_pool": "shushil1",
              "statement_id": 44,
              "statement_ids": [
                44
              ],
              "state": "finished",
              "livy_statement_state": "available",
              "spark_jobs": null,
              "session_id": "0",
              "normalized_state": "finished",
              "queued_time": "2024-11-18T04:42:39.9142316Z",
              "session_start_time": null,
              "execution_start_time": "2024-11-18T04:42:40.0453459Z",
              "execution_finish_time": "2024-11-18T04:42:43.9445139Z",
              "parent_msg_id": "5c89af6c-d2b9-45fa-a8e2-040b09c72492"
            },
            "text/plain": "StatementMeta(shushil1, 0, 44, Finished, Available, Finished)"
          },
          "metadata": {}
        },
        {
          "output_type": "stream",
          "name": "stdout",
          "text": [
            "+-------------+------------------+\n|        trend|         avg(rank)|\n+-------------+------------------+\n|same_position| 45.51131218419679|\n|      move_up| 95.79318887148787|\n|    move_down|103.43369679449103|\n|    new_entry|155.66577028980782|\n+-------------+------------------+\n\n"
          ]
        },
        {
          "output_type": "execute_result",
          "execution_count": 89,
          "data": {
            "text/plain": "(array([0, 1, 2, 3]),\n [Text(0, 0, 'move_down'),\n  Text(1, 0, 'new_entry'),\n  Text(2, 0, 'move_up'),\n  Text(3, 0, 'same_position')])"
          },
          "metadata": {}
        },
        {
          "output_type": "display_data",
          "data": {
            "text/plain": "<Figure size 640x480 with 1 Axes>",
            "image/png": "[encoded data removed]"
          },
          "metadata": {}
        }
      ],
      "execution_count": null,
      "metadata": {
        "jupyter": {
          "source_hidden": false,
          "outputs_hidden": false
        },
        "nteract": {
          "transient": {
            "deleting": false
          }
        },
        "id": "ep6KtR6qG1Gz",
        "outputId": "e389c42d-6b5d-442f-8ef2-66f3dbfd139b"
      }
    },
    {
      "cell_type": "code",
      "source": [
        "spotify_df.groupBy(\"region\", \"trend\").count().orderBy(\"region\", \"trend\").show()\n"
      ],
      "outputs": [
        {
          "output_type": "display_data",
          "data": {
            "application/vnd.livy.statement-meta+json": {
              "spark_pool": "shushil1",
              "statement_id": 39,
              "statement_ids": [
                39
              ],
              "state": "finished",
              "livy_statement_state": "available",
              "spark_jobs": null,
              "session_id": "0",
              "normalized_state": "finished",
              "queued_time": "2024-11-18T04:31:02.1626339Z",
              "session_start_time": null,
              "execution_start_time": "2024-11-18T04:31:02.2660525Z",
              "execution_finish_time": "2024-11-18T04:31:05.0277651Z",
              "parent_msg_id": "88c60b13-db08-46c2-b8f6-bacc4c34cc4f"
            },
            "text/plain": "StatementMeta(shushil1, 0, 39, Finished, Available, Finished)"
          },
          "metadata": {}
        },
        {
          "output_type": "stream",
          "name": "stdout",
          "text": [
            "+---------+-------------+------+\n|   region|        trend| count|\n+---------+-------------+------+\n|argentina|    move_down|156580|\n|argentina|      move_up|135693|\n|argentina|    new_entry| 18299|\n|argentina|same_position| 53725|\n|australia|    move_down|157488|\n|australia|      move_up|139302|\n|australia|    new_entry| 19575|\n|australia|same_position| 45814|\n|  austria|    move_down|164852|\n|  austria|      move_up|141899|\n|  austria|    new_entry| 24731|\n|  austria|same_position| 32328|\n|  belgium|    move_down|158647|\n|  belgium|      move_up|141121|\n|  belgium|    new_entry| 25408|\n|  belgium|same_position| 33195|\n|  bolivia|    move_down|134212|\n|  bolivia|      move_up|119178|\n|  bolivia|    new_entry| 16295|\n|  bolivia|same_position| 44160|\n+---------+-------------+------+\nonly showing top 20 rows\n\n"
          ]
        }
      ],
      "execution_count": null,
      "metadata": {
        "jupyter": {
          "source_hidden": false,
          "outputs_hidden": false
        },
        "nteract": {
          "transient": {
            "deleting": false
          }
        },
        "id": "fbs40MStG1Gz",
        "outputId": "b6691263-0301-4577-d199-2a8f2f9fc147"
      }
    },
    {
      "cell_type": "code",
      "source": [],
      "outputs": [],
      "execution_count": null,
      "metadata": {
        "jupyter": {
          "source_hidden": false,
          "outputs_hidden": false
        },
        "nteract": {
          "transient": {
            "deleting": false
          }
        },
        "id": "HPhHBhyrG1Gz"
      }
    }
  ],
  "metadata": {
    "language_info": {
      "name": "python"
    },
    "kernelspec": {
      "name": "synapse_pyspark",
      "display_name": "python"
    },
    "description": null,
    "save_output": true,
    "synapse_widget": {
      "version": "0.1",
      "state": {}
    },
    "colab": {
      "provenance": []
    }
  },
  "nbformat": 4,
  "nbformat_minor": 0
}